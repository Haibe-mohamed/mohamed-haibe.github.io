{
 "cells": [
  {
   "cell_type": "code",
   "execution_count": 28,
   "id": "f8f1b626-ddbf-44da-bbb6-4d8b26fc6ff2",
   "metadata": {},
   "outputs": [
    {
     "name": "stdin",
     "output_type": "stream",
     "text": [
      "Enter your name MOHAMED\n",
      "Enter your weight in pounds 176\n",
      "Enter your height in inches 67\n"
     ]
    },
    {
     "name": "stdout",
     "output_type": "stream",
     "text": [
      "27.5624860770773\n",
      "MOHAMED, you are obese put down the fork mate!!\n"
     ]
    }
   ],
   "source": [
    "name= input (\"Enter your name\")\n",
    "\n",
    "Weight = int(input(\"Enter your weight in pounds\"))\n",
    "\n",
    "Height = int(input(\"Enter your height in inches\"))\n",
    "\n",
    "BMI = (Weight * 703) / (Height * Height)\n",
    "\n",
    "print(BMI)\n",
    "\n",
    "if BMI > 0:\n",
    "    if(BMI < 18.5):\n",
    "        print(name +\", you are underweight!\")\n",
    "    elif(BMI <=24.9):\n",
    "        print(name +\", you are healthy mate\")\n",
    "    elif(BMI < 29.9\t):\n",
    "        print(name +\", you are obese put down the fork mate!!\")\n",
    "    elif(BMI > 34.9):\n",
    "        print(name +\", you are severly obese and at risk of morbidity!!\")\n",
    "    elif(BMI > 40):\n",
    "        print(name +\", you are morbidly obese and very high risk of sudden death!!\")\n",
    "else:        \n",
    "    print(\"Enter a valid input\")\n",
    "\n"
   ]
  },
  {
   "cell_type": "code",
   "execution_count": 27,
   "id": "dbe42104-f16d-4da2-9ef0-5ea414a0de34",
   "metadata": {},
   "outputs": [
    {
     "name": "stdout",
     "output_type": "stream",
     "text": [
      "IDRIS, you are severly obese and at risk of morbidity!!\n"
     ]
    }
   ],
   "source": [
    "if BMI > 0:\n",
    "    if(BMI < 18.5):\n",
    "        print(name +\", you are underweight!\")\n",
    "    elif(BMI <=24.9):\n",
    "        print(name +\", you are healthy mate\")\n",
    "    elif(BMI < 29.9\t):\n",
    "        print(name +\", you are obese put down the fork mate!!\")\n",
    "    elif(BMI > 34.9):\n",
    "        print(name +\", you are severly obese and at risk of morbidity!!\")\n",
    "    elif(BMI > 40):\n",
    "        print(name +\", you are morbidly obese and very high risk of sudden death!!\")\n",
    "    else:\n",
    "        print(\"Enter a valid input\")"
   ]
  },
  {
   "cell_type": "code",
   "execution_count": null,
   "id": "8ea71e30-22a0-4639-9abb-e53e8b423c67",
   "metadata": {},
   "outputs": [],
   "source": []
  },
  {
   "cell_type": "code",
   "execution_count": null,
   "id": "c78c99be-9d0f-47cd-9d84-b5aa170eee13",
   "metadata": {},
   "outputs": [],
   "source": []
  },
  {
   "cell_type": "code",
   "execution_count": null,
   "id": "28e01140-5cda-44a4-aaf3-cf82428a4e45",
   "metadata": {},
   "outputs": [],
   "source": []
  },
  {
   "cell_type": "code",
   "execution_count": null,
   "id": "eff1a7f7-7a3a-402e-9b61-ebed9ea884ed",
   "metadata": {},
   "outputs": [],
   "source": [
    "Under 18.5\tUnderweight\tMinimal\n",
    "18.5 - 24.9\tNormal Weight\tMinimal\n",
    "25 - 29.9\tOverweight\tIncreased\n",
    "30 - 34.9\tObese\tHigh\n",
    "35 - 39.9\tSeverely Obese\tVery High\n",
    "40 and over\tMorbidly Obese\tExtremely High"
   ]
  },
  {
   "cell_type": "code",
   "execution_count": null,
   "id": "69b4eff5-7b21-4d83-89be-fa3bf5e817e8",
   "metadata": {},
   "outputs": [],
   "source": [
    "BMI = (Weight * 703) / (Height * Height) \n"
   ]
  }
 ],
 "metadata": {
  "kernelspec": {
   "display_name": "anaconda-2024.02-py310",
   "language": "python",
   "name": "conda-env-anaconda-2024.02-py310-py"
  },
  "language_info": {
   "codemirror_mode": {
    "name": "ipython",
    "version": 3
   },
   "file_extension": ".py",
   "mimetype": "text/x-python",
   "name": "python",
   "nbconvert_exporter": "python",
   "pygments_lexer": "ipython3",
   "version": "3.10.14"
  }
 },
 "nbformat": 4,
 "nbformat_minor": 5
}
